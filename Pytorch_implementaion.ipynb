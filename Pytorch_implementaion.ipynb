{
 "cells": [
  {
   "cell_type": "code",
   "execution_count": 13,
   "metadata": {},
   "outputs": [],
   "source": [
    "import torch\n",
    "import pandas as pd\n",
    "import matplotlib.pyplot as plt"
   ]
  },
  {
   "cell_type": "code",
   "execution_count": 14,
   "metadata": {},
   "outputs": [
    {
     "data": {
      "text/html": [
       "<div>\n",
       "<style scoped>\n",
       "    .dataframe tbody tr th:only-of-type {\n",
       "        vertical-align: middle;\n",
       "    }\n",
       "\n",
       "    .dataframe tbody tr th {\n",
       "        vertical-align: top;\n",
       "    }\n",
       "\n",
       "    .dataframe thead th {\n",
       "        text-align: right;\n",
       "    }\n",
       "</style>\n",
       "<table border=\"1\" class=\"dataframe\">\n",
       "  <thead>\n",
       "    <tr style=\"text-align: right;\">\n",
       "      <th></th>\n",
       "      <th>Feature</th>\n",
       "      <th>Target</th>\n",
       "    </tr>\n",
       "  </thead>\n",
       "  <tbody>\n",
       "    <tr>\n",
       "      <th>0</th>\n",
       "      <td>0.000000</td>\n",
       "      <td>12.483571</td>\n",
       "    </tr>\n",
       "    <tr>\n",
       "      <th>1</th>\n",
       "      <td>0.505051</td>\n",
       "      <td>10.571305</td>\n",
       "    </tr>\n",
       "    <tr>\n",
       "      <th>2</th>\n",
       "      <td>1.010101</td>\n",
       "      <td>15.763695</td>\n",
       "    </tr>\n",
       "    <tr>\n",
       "      <th>3</th>\n",
       "      <td>1.515152</td>\n",
       "      <td>21.403028</td>\n",
       "    </tr>\n",
       "    <tr>\n",
       "      <th>4</th>\n",
       "      <td>2.020202</td>\n",
       "      <td>13.879738</td>\n",
       "    </tr>\n",
       "  </tbody>\n",
       "</table>\n",
       "</div>"
      ],
      "text/plain": [
       "    Feature     Target\n",
       "0  0.000000  12.483571\n",
       "1  0.505051  10.571305\n",
       "2  1.010101  15.763695\n",
       "3  1.515152  21.403028\n",
       "4  2.020202  13.879738"
      ]
     },
     "execution_count": 14,
     "metadata": {},
     "output_type": "execute_result"
    }
   ],
   "source": [
    "df=pd.read_csv(r\"C:\\Users\\Azhar computer\\Downloads\\linear_regression_dataset.csv\")\n",
    "df.head()"
   ]
  },
  {
   "cell_type": "code",
   "execution_count": 24,
   "metadata": {},
   "outputs": [],
   "source": [
    "Features=df['Feature'].astype(int)\n",
    "Targets=df['Target'].astype(int)"
   ]
  },
  {
   "cell_type": "code",
   "execution_count": 25,
   "metadata": {},
   "outputs": [
    {
     "name": "stderr",
     "output_type": "stream",
     "text": [
      "C:\\Users\\Azhar computer\\AppData\\Local\\Temp\\ipykernel_1180\\1376371953.py:4: UserWarning: No artists with labels found to put in legend.  Note that artists whose label start with an underscore are ignored when legend() is called with no argument.\n",
      "  plt.legend()\n"
     ]
    },
    {
     "data": {
      "image/png": "[encoded data removed]",
      "text/plain": [
       "<Figure size 640x480 with 1 Axes>"
      ]
     },
     "metadata": {},
     "output_type": "display_data"
    }
   ],
   "source": [
    "plt.plot(Features,Targets,'r')\n",
    "plt.xlabel(\"Features\")\n",
    "plt.ylabel(\"Target\")\n",
    "plt.legend()\n",
    "plt.show()"
   ]
  },
  {
   "cell_type": "code",
   "execution_count": 33,
   "metadata": {},
   "outputs": [],
   "source": [
    "X = torch.tensor(df[['Feature']].values, dtype=torch.float32)  # Feature as tensor\n",
    "y = torch.tensor(df['Target'].values, dtype=torch.float32).view(-1, 1) "
   ]
  },
  {
   "cell_type": "code",
   "execution_count": 34,
   "metadata": {},
   "outputs": [],
   "source": [
    "w=torch.tensor(-10.0,requires_grad=True)\n",
    "learn_rate=0.1\n",
    "lost_list=[]"
   ]
  },
  {
   "cell_type": "code",
   "execution_count": 35,
   "metadata": {},
   "outputs": [],
   "source": [
    "def forward(X):\n",
    "    return w * X"
   ]
  },
  {
   "cell_type": "code",
   "execution_count": 36,
   "metadata": {},
   "outputs": [],
   "source": [
    "def MSE(y_pred,y):\n",
    "    return torch.mean((y_pred - y) **2)"
   ]
  },
  {
   "cell_type": "code",
   "execution_count": 39,
   "metadata": {},
   "outputs": [
    {
     "name": "stdout",
     "output_type": "stream",
     "text": [
      "0,\t136975.015625.\t<built-in method item of Tensor object at 0x000001A6769272F0>\n",
      "1,\t3796487936.0.\t<built-in method item of Tensor object at 0x000001A6769272F0>\n",
      "2,\t105257828876288.0.\t<built-in method item of Tensor object at 0x000001A6769272F0>\n",
      "3,\t2.9182789573442273e+18.\t<built-in method item of Tensor object at 0x000001A6769272F0>\n",
      "4,\t8.090941910552465e+22.\t<built-in method item of Tensor object at 0x000001A6769272F0>\n",
      "5,\t2.243218083970881e+27.\t<built-in method item of Tensor object at 0x000001A6769272F0>\n",
      "6,\t6.219333386117295e+31.\t<built-in method item of Tensor object at 0x000001A6769272F0>\n",
      "7,\t1.7243133307752225e+36.\t<built-in method item of Tensor object at 0x000001A6769272F0>\n",
      "8,\tinf.\t<built-in method item of Tensor object at 0x000001A6769272F0>\n",
      "9,\tinf.\t<built-in method item of Tensor object at 0x000001A6769272F0>\n",
      "10,\tinf.\t<built-in method item of Tensor object at 0x000001A6769272F0>\n",
      "11,\tinf.\t<built-in method item of Tensor object at 0x000001A6769272F0>\n",
      "12,\tinf.\t<built-in method item of Tensor object at 0x000001A6769272F0>\n",
      "13,\tinf.\t<built-in method item of Tensor object at 0x000001A6769272F0>\n",
      "14,\tinf.\t<built-in method item of Tensor object at 0x000001A6769272F0>\n",
      "15,\tinf.\t<built-in method item of Tensor object at 0x000001A6769272F0>\n",
      "16,\tinf.\t<built-in method item of Tensor object at 0x000001A6769272F0>\n",
      "17,\tnan.\t<built-in method item of Tensor object at 0x000001A6769272F0>\n",
      "18,\tnan.\t<built-in method item of Tensor object at 0x000001A6769272F0>\n",
      "19,\tnan.\t<built-in method item of Tensor object at 0x000001A6769272F0>\n"
     ]
    }
   ],
   "source": [
    "for i in range(20):\n",
    "    y_pred=forward(X)\n",
    "    loss=MSE(y_pred,y)\n",
    "    lost_list.append(loss)\n",
    "    loss.backward()\n",
    "    w.data = w.data -learn_rate * w.grad.data\n",
    "    w.grad.data.zero_()\n",
    "    print('{},\\t{}.\\t{}'.format(i,loss.item(),w.item()))"
   ]
  },
  {
   "cell_type": "code",
   "execution_count": null,
   "metadata": {},
   "outputs": [],
   "source": []
  }
 ],
 "metadata": {
  "kernelspec": {
   "display_name": "Python 3",
   "language": "python",
   "name": "python3"
  },
  "language_info": {
   "codemirror_mode": {
    "name": "ipython",
    "version": 3
   },
   "file_extension": ".py",
   "mimetype": "text/x-python",
   "name": "python",
   "nbconvert_exporter": "python",
   "pygments_lexer": "ipython3",
   "version": "3.11.0"
  }
 },
 "nbformat": 4,
 "nbformat_minor": 2
}
